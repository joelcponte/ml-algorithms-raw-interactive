{
 "cells": [
  {
   "cell_type": "code",
   "execution_count": 1,
   "metadata": {
    "collapsed": true
   },
   "outputs": [],
   "source": [
    "import numpy as np\n",
    "from matplotlib import pyplot as plt\n",
    "import seaborn as sns\n",
    "import pandas as pd\n",
    "%matplotlib inline"
   ]
  },
  {
   "cell_type": "code",
   "execution_count": 2,
   "metadata": {},
   "outputs": [
    {
     "data": {
      "text/html": [
       "<div>\n",
       "<style>\n",
       "    .dataframe thead tr:only-child th {\n",
       "        text-align: right;\n",
       "    }\n",
       "\n",
       "    .dataframe thead th {\n",
       "        text-align: left;\n",
       "    }\n",
       "\n",
       "    .dataframe tbody tr th {\n",
       "        vertical-align: top;\n",
       "    }\n",
       "</style>\n",
       "<table border=\"1\" class=\"dataframe\">\n",
       "  <thead>\n",
       "    <tr style=\"text-align: right;\">\n",
       "      <th></th>\n",
       "      <th>class</th>\n",
       "      <th>x1</th>\n",
       "      <th>x2</th>\n",
       "    </tr>\n",
       "  </thead>\n",
       "  <tbody>\n",
       "    <tr>\n",
       "      <th>0</th>\n",
       "      <td>-1</td>\n",
       "      <td>1</td>\n",
       "      <td>-1</td>\n",
       "    </tr>\n",
       "    <tr>\n",
       "      <th>1</th>\n",
       "      <td>-1</td>\n",
       "      <td>1</td>\n",
       "      <td>1</td>\n",
       "    </tr>\n",
       "    <tr>\n",
       "      <th>2</th>\n",
       "      <td>-1</td>\n",
       "      <td>-1</td>\n",
       "      <td>-1</td>\n",
       "    </tr>\n",
       "    <tr>\n",
       "      <th>3</th>\n",
       "      <td>1</td>\n",
       "      <td>-1</td>\n",
       "      <td>2</td>\n",
       "    </tr>\n",
       "    <tr>\n",
       "      <th>4</th>\n",
       "      <td>1</td>\n",
       "      <td>1</td>\n",
       "      <td>3</td>\n",
       "    </tr>\n",
       "    <tr>\n",
       "      <th>5</th>\n",
       "      <td>1</td>\n",
       "      <td>3</td>\n",
       "      <td>3</td>\n",
       "    </tr>\n",
       "    <tr>\n",
       "      <th>6</th>\n",
       "      <td>1</td>\n",
       "      <td>5</td>\n",
       "      <td>3</td>\n",
       "    </tr>\n",
       "  </tbody>\n",
       "</table>\n",
       "</div>"
      ],
      "text/plain": [
       "   class  x1  x2\n",
       "0     -1   1  -1\n",
       "1     -1   1   1\n",
       "2     -1  -1  -1\n",
       "3      1  -1   2\n",
       "4      1   1   3\n",
       "5      1   3   3\n",
       "6      1   5   3"
      ]
     },
     "execution_count": 2,
     "metadata": {},
     "output_type": "execute_result"
    }
   ],
   "source": [
    "train = pd.DataFrame({\"x1\": [1,1,-1,-1, 1, 3, 5], \"x2\": [-1,1,-1,2, 3, 3, 3], \"class\": [-1,-1,-1,1,1,1,1]})\n",
    "train"
   ]
  },
  {
   "cell_type": "code",
   "execution_count": 3,
   "metadata": {},
   "outputs": [
    {
     "data": {
      "text/plain": [
       "<seaborn.axisgrid.FacetGrid at 0xf456fd0>"
      ]
     },
     "execution_count": 3,
     "metadata": {},
     "output_type": "execute_result"
    },
    {
     "data": {
      "image/png": "[encoded data removed]",
      "text/plain": [
       "<matplotlib.figure.Figure at 0xeeb2940>"
      ]
     },
     "metadata": {},
     "output_type": "display_data"
    }
   ],
   "source": [
    "sns.lmplot(x='x1', y='x2', fit_reg=False, data=train, hue = 'class', palette = [\"#30B4C9\", \"#d90057\"], scatter_kws = {\"s\": 300}, size = 4)"
   ]
  },
  {
   "cell_type": "code",
   "execution_count": 4,
   "metadata": {},
   "outputs": [],
   "source": [
    "from random import *\n",
    "\n",
    "def train_adaline(train, output, n):\n",
    "    T = 16000\n",
    "    w0 = 0\n",
    "    t = 0\n",
    "    m = train.shape[0]\n",
    "    x = train.loc[:,train.columns != output]\n",
    "    y = train.loc[:,output]\n",
    "    w = pd.Series([0,0], index= x.columns)\n",
    "    while t<T:\n",
    "        i = randint(0, m-1)\n",
    "        x_i = x.loc[i,:]\n",
    "        y_i = y[i]\n",
    "        hw = w0+x_i.dot(w)\n",
    "        #print(\"hw, y_i, x_i\")\n",
    "        #print(hw)\n",
    "        w0 = w0 + n*(y_i - hw)\n",
    "        w = w + n*(y_i - hw)*x_i\n",
    "        #print(y_i)\n",
    "        #print(x_i)\n",
    "        t+=1\n",
    "    return(w, w0)"
   ]
  },
  {
   "cell_type": "code",
   "execution_count": 5,
   "metadata": {},
   "outputs": [
    {
     "name": "stdout",
     "output_type": "stream",
     "text": [
      "w0, w\n",
      "-0.584060182441\n",
      "x1   -0.052935\n",
      "x2    0.590631\n",
      "dtype: float64\n"
     ]
    }
   ],
   "source": [
    "w, w0 = train_adaline(train, \"class\", 0.01)\n",
    "print(\"w0, w\")\n",
    "print(w0)\n",
    "print(w)"
   ]
  },
  {
   "cell_type": "code",
   "execution_count": 6,
   "metadata": {},
   "outputs": [
    {
     "data": {
      "text/plain": [
       "(-3, 6)"
      ]
     },
     "execution_count": 6,
     "metadata": {},
     "output_type": "execute_result"
    },
    {
     "data": {
      "image/png": "[encoded data removed]",
      "text/plain": [
       "<matplotlib.figure.Figure at 0xf166ef0>"
      ]
     },
     "metadata": {},
     "output_type": "display_data"
    }
   ],
   "source": [
    "a = sns.lmplot(x='x1', y='x2', fit_reg=False, data=train, hue = 'class', palette = [\"#30B4C9\", \"#d90057\"], scatter_kws = {\"s\": 300}, size = 4)\n",
    "import math\n",
    "## x2 = -x1*w[0]/w[1] + w0/w[1]\n",
    "def separator(x1, w, w0):\n",
    "    return -x1*1.*w[0]/w[1] - 1.*w0/w[1]\n",
    "plt.plot([-1,1],[separator(-1, w, w0), separator(1, w, w0)])\n",
    "plt.plot([0,w[0]], [-1.*w0/w[1],w[1]-1.*w0/w[1]], color = \"black\")\n",
    "plt.scatter([w[0]], [w[1]-1.*w0/w[1]], color = \"black\")\n",
    "plt.axis('equal')\n",
    "plt.xlim(-3,6)\n",
    "plt.ylim(-3,6)"
   ]
  },
  {
   "cell_type": "code",
   "execution_count": null,
   "metadata": {},
   "outputs": [],
   "source": []
  },
  {
   "cell_type": "code",
   "execution_count": null,
   "metadata": {
    "collapsed": true
   },
   "outputs": [],
   "source": []
  }
 ],
 "metadata": {
  "kernelspec": {
   "display_name": "Python 2",
   "language": "python",
   "name": "python2"
  },
  "language_info": {
   "codemirror_mode": {
    "name": "ipython",
    "version": 2
   },
   "file_extension": ".py",
   "mimetype": "text/x-python",
   "name": "python",
   "nbconvert_exporter": "python",
   "pygments_lexer": "ipython2",
   "version": "2.7.14"
  }
 },
 "nbformat": 4,
 "nbformat_minor": 2
}
